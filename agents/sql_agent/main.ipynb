{
 "cells": [
  {
   "cell_type": "code",
   "execution_count": 1,
   "metadata": {},
   "outputs": [
    {
     "data": {
      "text/plain": [
       "True"
      ]
     },
     "execution_count": 1,
     "metadata": {},
     "output_type": "execute_result"
    }
   ],
   "source": [
    "from langchain_core.output_parsers import JsonOutputParser\n",
    "from langchain_core.prompts import PromptTemplate\n",
    "from langchain_openai import ChatOpenAI\n",
    "from pydantic import BaseModel, Field\n",
    "from dotenv import load_dotenv\n",
    "import json\n",
    "import sqlite3\n",
    "load_dotenv(override=True)"
   ]
  },
  {
   "cell_type": "code",
   "execution_count": 2,
   "metadata": {},
   "outputs": [],
   "source": [
    "conn = sqlite3.connect('example.db')"
   ]
  },
  {
   "cell_type": "code",
   "execution_count": 3,
   "metadata": {},
   "outputs": [],
   "source": [
    "model = ChatOpenAI(temperature=0)"
   ]
  },
  {
   "cell_type": "code",
   "execution_count": 4,
   "metadata": {},
   "outputs": [],
   "source": [
    "# Define your desired data structure.\n",
    "class Observation(BaseModel):\n",
    "    title: str = Field(description=\"the title of the observation\")\n",
    "    description: str = Field(description=\"the detailed description of the observation\")\n",
    "\n",
    "# Set up a parser + inject instructions into the prompt template.\n",
    "parser = JsonOutputParser(pydantic_object=Observation)"
   ]
  },
  {
   "cell_type": "code",
   "execution_count": 5,
   "metadata": {},
   "outputs": [],
   "source": [
    "prompt = PromptTemplate(\n",
    "    template=\"Answer the user query.\\n{format_instructions}\\n{query}\\n\",\n",
    "    input_variables=[\"query\"],\n",
    "    partial_variables={\"format_instructions\": parser.get_format_instructions()},\n",
    ")\n",
    "chain = prompt | model | parser"
   ]
  },
  {
   "cell_type": "code",
   "execution_count": 6,
   "metadata": {},
   "outputs": [],
   "source": [
    "data = chain.invoke({\"query\": \"L'immagine mostra un gruppo di soldati a cavallo di cammelli, che sembrano essere in marcia o in parata. I soldati indossano uniformi militari e cappelli, e alcuni di loro tengono in mano delle armi. I cammelli sono adornati con coperte rosse decorate con frange dorate. La scena si svolge su una strada asfaltata, e sullo sfondo si intravede una leggera foschia che rende l'atmosfera un po' sfocata. La formazione dei soldati e dei cammelli è ordinata, con i cammelli disposti in fila.\"})"
   ]
  },
  {
   "cell_type": "code",
   "execution_count": 7,
   "metadata": {},
   "outputs": [
    {
     "data": {
      "text/plain": [
       "{'title': 'Soldiers on Camels',\n",
       " 'description': 'A group of soldiers riding camels in what appears to be a march or parade. The soldiers are wearing military uniforms and hats, some of them holding weapons. The camels are adorned with red blankets decorated with golden fringes. The scene takes place on an asphalt road, with a slight haze in the background giving a slightly blurred atmosphere. The formation of soldiers and camels is orderly, with the camels lined up.'}"
      ]
     },
     "execution_count": 7,
     "metadata": {},
     "output_type": "execute_result"
    }
   ],
   "source": [
    "data"
   ]
  },
  {
   "cell_type": "code",
   "execution_count": 11,
   "metadata": {},
   "outputs": [],
   "source": [
    "def create_tables():\n",
    "    sql_statements = [ \n",
    "        \"\"\"CREATE TABLE IF NOT EXISTS example_table (\n",
    "                id INTEGER PRIMARY KEY AUTOINCREMENT, \n",
    "                title text NOT NULL, \n",
    "                description TEXT\n",
    "        );\"\"\"\n",
    "    ]\n",
    "    try:\n",
    "        with sqlite3.connect('example.db') as conn:\n",
    "            cursor = conn.cursor()\n",
    "            for statement in sql_statements:\n",
    "                cursor.execute(statement)\n",
    "            \n",
    "            conn.commit()\n",
    "    except sqlite3.Error as e:\n",
    "        print(e)"
   ]
  },
  {
   "cell_type": "code",
   "execution_count": 12,
   "metadata": {},
   "outputs": [],
   "source": [
    "create_tables()"
   ]
  },
  {
   "cell_type": "code",
   "execution_count": 13,
   "metadata": {},
   "outputs": [
    {
     "data": {
      "text/plain": [
       "<sqlite3.Cursor at 0x1ce1cbe6340>"
      ]
     },
     "execution_count": 13,
     "metadata": {},
     "output_type": "execute_result"
    }
   ],
   "source": [
    "conn.execute(\"INSERT INTO example_table (title, description) VALUES (?, ?)\", \n",
    "                (data[\"title\"], data[\"description\"]))"
   ]
  },
  {
   "cell_type": "code",
   "execution_count": null,
   "metadata": {},
   "outputs": [],
   "source": []
  }
 ],
 "metadata": {
  "kernelspec": {
   "display_name": "langchain",
   "language": "python",
   "name": "python3"
  },
  "language_info": {
   "codemirror_mode": {
    "name": "ipython",
    "version": 3
   },
   "file_extension": ".py",
   "mimetype": "text/x-python",
   "name": "python",
   "nbconvert_exporter": "python",
   "pygments_lexer": "ipython3",
   "version": "3.11.9"
  }
 },
 "nbformat": 4,
 "nbformat_minor": 2
}
